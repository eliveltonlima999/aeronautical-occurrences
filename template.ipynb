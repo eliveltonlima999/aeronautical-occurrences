{
 "cells": [
  {
   "cell_type": "markdown",
   "id": "df1ef4da-be7e-42a0-b490-03b1e71a715c",
   "metadata": {},
   "source": [
    "Importação das bibliotecas"
   ]
  },
  {
   "cell_type": "code",
   "execution_count": null,
   "id": "98cde97f-dc22-440d-88ac-3db5589d55d1",
   "metadata": {},
   "outputs": [],
   "source": [
    "from pandas import DataFrame\n",
    "from numpy import ndarray\n",
    "from requests import get"
   ]
  },
  {
   "cell_type": "markdown",
   "id": "e8b80f0a-e0be-4b82-aa4e-fa859d3d4ebf",
   "metadata": {},
   "source": [
    "Função de requisição"
   ]
  },
  {
   "cell_type": "code",
   "execution_count": null,
   "id": "1d7a5bda-89b5-4139-b258-148e5d896625",
   "metadata": {},
   "outputs": [],
   "source": [
    "# Caso seja necessário, basta passar parâmetros e estruturar a query\n",
    "def consulta():\n",
    "    data = get('link_da_requisicao').json()\n",
    "    return DataFrame(data)"
   ]
  }
 ],
 "metadata": {
  "kernelspec": {
   "display_name": "Python 3 (ipykernel)",
   "language": "python",
   "name": "python3"
  },
  "language_info": {
   "codemirror_mode": {
    "name": "ipython",
    "version": 3
   },
   "file_extension": ".py",
   "mimetype": "text/x-python",
   "name": "python",
   "nbconvert_exporter": "python",
   "pygments_lexer": "ipython3",
   "version": "3.11.5"
  }
 },
 "nbformat": 4,
 "nbformat_minor": 5
}
