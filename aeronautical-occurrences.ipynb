{
 "cells": [
  {
   "cell_type": "markdown",
   "id": "0b3e83f6-3672-45d6-bbf6-81e91e62c029",
   "metadata": {},
   "source": [
    "# Ocorrências aeronáuticas"
   ]
  },
  {
   "cell_type": "markdown",
   "id": "0555bfdd-b3e1-4905-9ef5-8fe4114ac4c0",
   "metadata": {},
   "source": [
    "Este notebook tem como objetivo apresentar a análise dos dados de ocorrências aeronáuticas no Brasil. Na análise, será possível indentificarmos as ocorrências mais frenquentes e o tipo; quantificá-las e descobrir a média por ano, estado, município e região; \n",
    "quantificá-las por operador, operação e fase de operacao, classificar por modelo, danos e fabricante das aeronaves e se faz parte do Plano de Supervisão da Segurança Operacional(PSSO). Com isso, será posível auxiliar os orgãos envolvidos e elaborarem e planejarem medidas de segurança de prevenção, como por exemplo, o PSSO. Os dados das ocorrências aeronáuticas são enviadas pela Força Aérea Brasileira por meio do CENIPA para a ANAC acrescido de informações enriquecidas pela própria ANAC."
   ]
  },
  {
   "cell_type": "markdown",
   "id": "df1ef4da-be7e-42a0-b490-03b1e71a715c",
   "metadata": {},
   "source": [
    "## Importação das bibliotecas"
   ]
  },
  {
   "cell_type": "code",
   "execution_count": 2,
   "id": "98cde97f-dc22-440d-88ac-3db5589d55d1",
   "metadata": {},
   "outputs": [],
   "source": [
    "from pandas import read_csv as rc"
   ]
  },
  {
   "cell_type": "markdown",
   "id": "e8b80f0a-e0be-4b82-aa4e-fa859d3d4ebf",
   "metadata": {},
   "source": [
    "## Função de requisição e chamada"
   ]
  },
  {
   "cell_type": "code",
   "execution_count": 189,
   "id": "1d7a5bda-89b5-4139-b258-148e5d896625",
   "metadata": {},
   "outputs": [],
   "source": [
    "def search_occurrences():\n",
    "    try:\n",
    "        return rc(\n",
    "            'https://sistemas.anac.gov.br/dadosabertos/Seguranca%20Operacional/Ocorrencia/V_OCORRENCIA_AMPLA.csv',\n",
    "            sep=';',\n",
    "            skiprows=[0],\n",
    "            index_col=[0],\n",
    "        )\n",
    "    except Exception as e: \n",
    "        print(e)\n",
    "        return None"
   ]
  },
  {
   "cell_type": "code",
   "execution_count": 190,
   "id": "1718d4bc-01b7-4e6f-84dc-868595388fc2",
   "metadata": {},
   "outputs": [],
   "source": [
    "df_occurrences = search_occurrences()"
   ]
  },
  {
   "cell_type": "markdown",
   "id": "373d6ece-eb16-401a-946c-4e39ae701ca3",
   "metadata": {},
   "source": [
    "## Limpeza e prepração dos dados"
   ]
  },
  {
   "cell_type": "markdown",
   "id": "7fd9b3a1-a290-4ad0-8fe9-6c214c55b4b2",
   "metadata": {},
   "source": [
    "Verificando dados duplicados:"
   ]
  },
  {
   "cell_type": "code",
   "execution_count": 191,
   "id": "382d08d1-b458-46b2-a5a2-f8f523fe2136",
   "metadata": {},
   "outputs": [
    {
     "name": "stdout",
     "output_type": "stream",
     "text": [
      "Dados duplicados: 10\n",
      "Após a limpeza: 0\n"
     ]
    }
   ],
   "source": [
    "# Quantidade de dados duplicados\n",
    "print('Dados duplicados: %s' % df_occurrences.duplicated().sum())\n",
    "\n",
    "# Remove dados duplicados\n",
    "df_occurrences.drop_duplicates(inplace=True)\n",
    "\n",
    "# Verificando\n",
    "print('Após a limpeza: %s' % df_occurrences.duplicated().sum())"
   ]
  },
  {
   "cell_type": "markdown",
   "id": "f9511d3e-03d9-4819-aafe-3daff441b22d",
   "metadata": {},
   "source": [
    "Para a realização da análise será necessário eliminar os dados desnecessários, renomear as colunas e formatar os dados.\n",
    "Serão utilizadas as colunas:\n",
    "<ul>\n",
    "    <li>Numero_da_Ocorrencia</li>\n",
    "    <li>Classificacao_da_Ocorrencia</li>\n",
    "    <li>Data_da_Ocorrencia</li>\n",
    "    <li>Municipio</li>\n",
    "    <li>Regiao</li>\n",
    "    <li>Tipo_de_Ocorrencia</li>\n",
    "    <li>Fase_da_Operacao</li>\n",
    "    <li>Operacao</li>\n",
    "    <li>Danos_a_Aeronave</li>\n",
    "    <li>Modelo</li>\n",
    "    <li>Nome_do_Fabricante</li>\n",
    "    <li>PSSO</li>\n",
    "</ul>"
   ]
  },
  {
   "cell_type": "markdown",
   "id": "27036f35-68f8-4691-97c4-58d7f57a4665",
   "metadata": {},
   "source": [
    "Removendo as colunas desnecessárias:"
   ]
  },
  {
   "cell_type": "code",
   "execution_count": 192,
   "id": "b589758e-e704-4312-aee6-2b0b0ea41622",
   "metadata": {
    "scrolled": true
   },
   "outputs": [],
   "source": [
    "# Colunas que serão usadas\n",
    "columns_used = [\n",
    "    'Numero_da_Ocorrencia', \n",
    "    'Classificacao_da_Ocorrencia', \n",
    "    'Data_da_Ocorrencia', \n",
    "    'Municipio', \n",
    "    'Regiao',\n",
    "    'Operador',\n",
    "    'Tipo_de_Ocorrencia',\n",
    "    'Fase_da_Operacao',\n",
    "    'Operacao',\n",
    "    'Danos_a_Aeronave',\n",
    "    'Modelo',\n",
    "    'Nome_do_Fabricante',\n",
    "    'PSSO'\n",
    "]\n",
    "\n",
    "# Obtendo todas as colunas\n",
    "all_columns = df_occurrences.columns\n",
    "\n",
    "# Obtendo a diferença de colunas, que serão removidas\n",
    "removed_columns = set(all_columns).difference(set(columns_used))\n",
    "\n",
    "# Removendo colunas desnecessárias\n",
    "df_occurrences.drop(columns=removed_columns, inplace=True)"
   ]
  },
  {
   "cell_type": "markdown",
   "id": "ab4dccbb-2d79-4b80-99df-e2349cf1c830",
   "metadata": {},
   "source": [
    "Renomeando colunas:"
   ]
  },
  {
   "cell_type": "code",
   "execution_count": 193,
   "id": "d907188a-249e-4423-b7ea-e052f022c52d",
   "metadata": {},
   "outputs": [],
   "source": [
    "# Função para renomear colunas\n",
    "rename_column = lambda column: column.lower()\n",
    "\n",
    "# Renomeando colunas\n",
    "df_occurrences.rename(columns=rename_column, inplace=True)\n",
    "\n",
    "# Renomeando index\n",
    "df_occurrences.index.rename('numero_da_ocorrencia', inplace=True)"
   ]
  },
  {
   "cell_type": "markdown",
   "id": "aff98834-162f-4ef2-8c27-7cc2741bd43b",
   "metadata": {},
   "source": [
    "Verificando o tipo dos dados de cada coluna:"
   ]
  },
  {
   "cell_type": "code",
   "execution_count": 200,
   "id": "0d3ca6e7-a2a7-4796-9c43-2522a0ce7ccc",
   "metadata": {},
   "outputs": [
    {
     "data": {
      "text/plain": [
       "classificacao_da_ocorrencia    object\n",
       "data_da_ocorrencia             object\n",
       "municipio                      object\n",
       "regiao                         object\n",
       "operador                       object\n",
       "tipo_de_ocorrencia             object\n",
       "fase_da_operacao               object\n",
       "operacao                       object\n",
       "danos_a_aeronave               object\n",
       "modelo                         object\n",
       "nome_do_fabricante             object\n",
       "psso                           object\n",
       "dtype: object"
      ]
     },
     "execution_count": 200,
     "metadata": {},
     "output_type": "execute_result"
    }
   ],
   "source": [
    "df_occurrences.dtypes"
   ]
  },
  {
   "cell_type": "markdown",
   "id": "a4256def-4239-4551-b5e7-234f4b1ef709",
   "metadata": {},
   "source": [
    "Verificando e substituindo valores ausentes:"
   ]
  },
  {
   "cell_type": "code",
   "execution_count": 203,
   "id": "f36e040d-6abc-468e-adfb-7b8232b0b09b",
   "metadata": {},
   "outputs": [
    {
     "data": {
      "text/plain": [
       "classificacao_da_ocorrencia       2\n",
       "data_da_ocorrencia                0\n",
       "municipio                      3698\n",
       "regiao                          753\n",
       "operador                        109\n",
       "tipo_de_ocorrencia             3019\n",
       "fase_da_operacao               3391\n",
       "operacao                        124\n",
       "danos_a_aeronave               3747\n",
       "modelo                          402\n",
       "nome_do_fabricante              549\n",
       "psso                             53\n",
       "dtype: int64"
      ]
     },
     "execution_count": 203,
     "metadata": {},
     "output_type": "execute_result"
    }
   ],
   "source": [
    "# Verificando a quantidade de valores ausentes\n",
    "df_occurrences.isnull().sum()"
   ]
  }
 ],
 "metadata": {
  "kernelspec": {
   "display_name": "Python 3 (ipykernel)",
   "language": "python",
   "name": "python3"
  },
  "language_info": {
   "codemirror_mode": {
    "name": "ipython",
    "version": 3
   },
   "file_extension": ".py",
   "mimetype": "text/x-python",
   "name": "python",
   "nbconvert_exporter": "python",
   "pygments_lexer": "ipython3",
   "version": "3.11.5"
  }
 },
 "nbformat": 4,
 "nbformat_minor": 5
}
